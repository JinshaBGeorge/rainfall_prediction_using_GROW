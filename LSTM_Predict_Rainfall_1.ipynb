{
  "nbformat": 4,
  "nbformat_minor": 0,
  "metadata": {
    "colab": {
      "provenance": []
    },
    "kernelspec": {
      "name": "python3",
      "display_name": "Python 3"
    },
    "language_info": {
      "name": "python"
    }
  },
  "cells": [
    {
      "cell_type": "code",
      "execution_count": null,
      "metadata": {
        "id": "emXGOQc6irBd"
      },
      "outputs": [],
      "source": [
        "import tensorflow as tf\n",
        "import os\n",
        "import pandas as pd\n",
        "import numpy as np"
      ]
    },
    {
      "cell_type": "code",
      "source": [
        "!pip install pymysql\n",
        "import sqlalchemy\n",
        "from sqlalchemy.sql import text\n",
        "from urllib.parse import quote_plus\n",
        "\n",
        "engine = sqlalchemy.create_engine(\"mysql+pymysql://root:%s@34.141.168.80/growrain\" % quote_plus(\"Jinsha@15535!\"))\n",
        "query1 = '''SELECT Latitude, Longitude, Time, SoilMoisture, Percipitation from PredictRain;'''\n",
        "with engine.connect().execution_options(autocommit=True) as con:\n",
        "    rs1 = con.execute(text(query1))\n",
        "\n",
        "raw_df = pd.DataFrame(rs1.fetchall())\n",
        "raw_df = raw_df.reset_index()\n",
        "raw_df = raw_df.drop('index', axis=1)\n",
        "raw_df = raw_df.rename(columns={0:'Latitude',1:'Longitude',2:'Time',3:'SoilMoisture',4:'Percipitation'})"
      ],
      "metadata": {
        "colab": {
          "base_uri": "https://localhost:8080/"
        },
        "id": "fhENf8eWivqQ",
        "outputId": "4b55f580-980b-483c-f0fe-ee048703ccf3"
      },
      "execution_count": null,
      "outputs": [
        {
          "output_type": "stream",
          "name": "stdout",
          "text": [
            "Looking in indexes: https://pypi.org/simple, https://us-python.pkg.dev/colab-wheels/public/simple/\n",
            "Collecting pymysql\n",
            "  Downloading PyMySQL-1.0.2-py3-none-any.whl (43 kB)\n",
            "\u001b[2K     \u001b[90m━━━━━━━━━━━━━━━━━━━━━━━━━━━━━━━━━━━━━━━\u001b[0m \u001b[32m43.8/43.8 KB\u001b[0m \u001b[31m950.9 kB/s\u001b[0m eta \u001b[36m0:00:00\u001b[0m\n",
            "\u001b[?25hInstalling collected packages: pymysql\n",
            "Successfully installed pymysql-1.0.2\n"
          ]
        },
        {
          "output_type": "stream",
          "name": "stderr",
          "text": [
            "<ipython-input-2-b840f56ff267>:9: RemovedIn20Warning: Deprecated API features detected! These feature(s) are not compatible with SQLAlchemy 2.0. To prevent incompatible upgrades prior to updating applications, ensure requirements files are pinned to \"sqlalchemy<2.0\". Set environment variable SQLALCHEMY_WARN_20=1 to show all deprecation warnings.  Set environment variable SQLALCHEMY_SILENCE_UBER_WARNING=1 to silence this message. (Background on SQLAlchemy 2.0 at: https://sqlalche.me/e/b8d9)\n",
            "  rs1 = con.execute(text(query1))\n"
          ]
        }
      ]
    },
    {
      "cell_type": "code",
      "source": [
        "raw_df"
      ],
      "metadata": {
        "colab": {
          "base_uri": "https://localhost:8080/",
          "height": 423
        },
        "id": "tDO1iKJHizqw",
        "outputId": "623303ca-c878-4c82-b6a4-938fed355d49"
      },
      "execution_count": null,
      "outputs": [
        {
          "output_type": "execute_result",
          "data": {
            "text/plain": [
              "        Latitude  Longitude                Time  SoilMoisture  Percipitation\n",
              "0          0.000      0.000 2017-09-05 09:00:00      0.000000           0.03\n",
              "1          0.000      0.000 2017-09-05 10:00:00      0.141852           0.02\n",
              "2          0.000      0.000 2017-09-05 11:00:00      0.283214           0.02\n",
              "3          0.000      0.000 2017-09-05 12:00:00      0.217857           0.02\n",
              "4          0.000      0.000 2017-09-05 13:00:00      0.263571           0.02\n",
              "...          ...        ...                 ...           ...            ...\n",
              "750569    56.752     -3.542 2019-07-05 13:00:00      0.000000           0.49\n",
              "750570    56.752     -3.542 2019-07-05 14:00:00      0.000000           0.27\n",
              "750571    56.752     -3.542 2019-07-05 15:00:00      0.000000           0.19\n",
              "750572    56.752     -3.542 2019-07-05 16:00:00      0.000000           0.14\n",
              "750573    56.752     -3.542 2019-07-05 17:00:00      0.000000           0.11\n",
              "\n",
              "[750574 rows x 5 columns]"
            ],
            "text/html": [
              "\n",
              "  <div id=\"df-05a8a51a-2d13-4386-88a2-a721705d8c9b\">\n",
              "    <div class=\"colab-df-container\">\n",
              "      <div>\n",
              "<style scoped>\n",
              "    .dataframe tbody tr th:only-of-type {\n",
              "        vertical-align: middle;\n",
              "    }\n",
              "\n",
              "    .dataframe tbody tr th {\n",
              "        vertical-align: top;\n",
              "    }\n",
              "\n",
              "    .dataframe thead th {\n",
              "        text-align: right;\n",
              "    }\n",
              "</style>\n",
              "<table border=\"1\" class=\"dataframe\">\n",
              "  <thead>\n",
              "    <tr style=\"text-align: right;\">\n",
              "      <th></th>\n",
              "      <th>Latitude</th>\n",
              "      <th>Longitude</th>\n",
              "      <th>Time</th>\n",
              "      <th>SoilMoisture</th>\n",
              "      <th>Percipitation</th>\n",
              "    </tr>\n",
              "  </thead>\n",
              "  <tbody>\n",
              "    <tr>\n",
              "      <th>0</th>\n",
              "      <td>0.000</td>\n",
              "      <td>0.000</td>\n",
              "      <td>2017-09-05 09:00:00</td>\n",
              "      <td>0.000000</td>\n",
              "      <td>0.03</td>\n",
              "    </tr>\n",
              "    <tr>\n",
              "      <th>1</th>\n",
              "      <td>0.000</td>\n",
              "      <td>0.000</td>\n",
              "      <td>2017-09-05 10:00:00</td>\n",
              "      <td>0.141852</td>\n",
              "      <td>0.02</td>\n",
              "    </tr>\n",
              "    <tr>\n",
              "      <th>2</th>\n",
              "      <td>0.000</td>\n",
              "      <td>0.000</td>\n",
              "      <td>2017-09-05 11:00:00</td>\n",
              "      <td>0.283214</td>\n",
              "      <td>0.02</td>\n",
              "    </tr>\n",
              "    <tr>\n",
              "      <th>3</th>\n",
              "      <td>0.000</td>\n",
              "      <td>0.000</td>\n",
              "      <td>2017-09-05 12:00:00</td>\n",
              "      <td>0.217857</td>\n",
              "      <td>0.02</td>\n",
              "    </tr>\n",
              "    <tr>\n",
              "      <th>4</th>\n",
              "      <td>0.000</td>\n",
              "      <td>0.000</td>\n",
              "      <td>2017-09-05 13:00:00</td>\n",
              "      <td>0.263571</td>\n",
              "      <td>0.02</td>\n",
              "    </tr>\n",
              "    <tr>\n",
              "      <th>...</th>\n",
              "      <td>...</td>\n",
              "      <td>...</td>\n",
              "      <td>...</td>\n",
              "      <td>...</td>\n",
              "      <td>...</td>\n",
              "    </tr>\n",
              "    <tr>\n",
              "      <th>750569</th>\n",
              "      <td>56.752</td>\n",
              "      <td>-3.542</td>\n",
              "      <td>2019-07-05 13:00:00</td>\n",
              "      <td>0.000000</td>\n",
              "      <td>0.49</td>\n",
              "    </tr>\n",
              "    <tr>\n",
              "      <th>750570</th>\n",
              "      <td>56.752</td>\n",
              "      <td>-3.542</td>\n",
              "      <td>2019-07-05 14:00:00</td>\n",
              "      <td>0.000000</td>\n",
              "      <td>0.27</td>\n",
              "    </tr>\n",
              "    <tr>\n",
              "      <th>750571</th>\n",
              "      <td>56.752</td>\n",
              "      <td>-3.542</td>\n",
              "      <td>2019-07-05 15:00:00</td>\n",
              "      <td>0.000000</td>\n",
              "      <td>0.19</td>\n",
              "    </tr>\n",
              "    <tr>\n",
              "      <th>750572</th>\n",
              "      <td>56.752</td>\n",
              "      <td>-3.542</td>\n",
              "      <td>2019-07-05 16:00:00</td>\n",
              "      <td>0.000000</td>\n",
              "      <td>0.14</td>\n",
              "    </tr>\n",
              "    <tr>\n",
              "      <th>750573</th>\n",
              "      <td>56.752</td>\n",
              "      <td>-3.542</td>\n",
              "      <td>2019-07-05 17:00:00</td>\n",
              "      <td>0.000000</td>\n",
              "      <td>0.11</td>\n",
              "    </tr>\n",
              "  </tbody>\n",
              "</table>\n",
              "<p>750574 rows × 5 columns</p>\n",
              "</div>\n",
              "      <button class=\"colab-df-convert\" onclick=\"convertToInteractive('df-05a8a51a-2d13-4386-88a2-a721705d8c9b')\"\n",
              "              title=\"Convert this dataframe to an interactive table.\"\n",
              "              style=\"display:none;\">\n",
              "        \n",
              "  <svg xmlns=\"http://www.w3.org/2000/svg\" height=\"24px\"viewBox=\"0 0 24 24\"\n",
              "       width=\"24px\">\n",
              "    <path d=\"M0 0h24v24H0V0z\" fill=\"none\"/>\n",
              "    <path d=\"M18.56 5.44l.94 2.06.94-2.06 2.06-.94-2.06-.94-.94-2.06-.94 2.06-2.06.94zm-11 1L8.5 8.5l.94-2.06 2.06-.94-2.06-.94L8.5 2.5l-.94 2.06-2.06.94zm10 10l.94 2.06.94-2.06 2.06-.94-2.06-.94-.94-2.06-.94 2.06-2.06.94z\"/><path d=\"M17.41 7.96l-1.37-1.37c-.4-.4-.92-.59-1.43-.59-.52 0-1.04.2-1.43.59L10.3 9.45l-7.72 7.72c-.78.78-.78 2.05 0 2.83L4 21.41c.39.39.9.59 1.41.59.51 0 1.02-.2 1.41-.59l7.78-7.78 2.81-2.81c.8-.78.8-2.07 0-2.86zM5.41 20L4 18.59l7.72-7.72 1.47 1.35L5.41 20z\"/>\n",
              "  </svg>\n",
              "      </button>\n",
              "      \n",
              "  <style>\n",
              "    .colab-df-container {\n",
              "      display:flex;\n",
              "      flex-wrap:wrap;\n",
              "      gap: 12px;\n",
              "    }\n",
              "\n",
              "    .colab-df-convert {\n",
              "      background-color: #E8F0FE;\n",
              "      border: none;\n",
              "      border-radius: 50%;\n",
              "      cursor: pointer;\n",
              "      display: none;\n",
              "      fill: #1967D2;\n",
              "      height: 32px;\n",
              "      padding: 0 0 0 0;\n",
              "      width: 32px;\n",
              "    }\n",
              "\n",
              "    .colab-df-convert:hover {\n",
              "      background-color: #E2EBFA;\n",
              "      box-shadow: 0px 1px 2px rgba(60, 64, 67, 0.3), 0px 1px 3px 1px rgba(60, 64, 67, 0.15);\n",
              "      fill: #174EA6;\n",
              "    }\n",
              "\n",
              "    [theme=dark] .colab-df-convert {\n",
              "      background-color: #3B4455;\n",
              "      fill: #D2E3FC;\n",
              "    }\n",
              "\n",
              "    [theme=dark] .colab-df-convert:hover {\n",
              "      background-color: #434B5C;\n",
              "      box-shadow: 0px 1px 3px 1px rgba(0, 0, 0, 0.15);\n",
              "      filter: drop-shadow(0px 1px 2px rgba(0, 0, 0, 0.3));\n",
              "      fill: #FFFFFF;\n",
              "    }\n",
              "  </style>\n",
              "\n",
              "      <script>\n",
              "        const buttonEl =\n",
              "          document.querySelector('#df-05a8a51a-2d13-4386-88a2-a721705d8c9b button.colab-df-convert');\n",
              "        buttonEl.style.display =\n",
              "          google.colab.kernel.accessAllowed ? 'block' : 'none';\n",
              "\n",
              "        async function convertToInteractive(key) {\n",
              "          const element = document.querySelector('#df-05a8a51a-2d13-4386-88a2-a721705d8c9b');\n",
              "          const dataTable =\n",
              "            await google.colab.kernel.invokeFunction('convertToInteractive',\n",
              "                                                     [key], {});\n",
              "          if (!dataTable) return;\n",
              "\n",
              "          const docLinkHtml = 'Like what you see? Visit the ' +\n",
              "            '<a target=\"_blank\" href=https://colab.research.google.com/notebooks/data_table.ipynb>data table notebook</a>'\n",
              "            + ' to learn more about interactive tables.';\n",
              "          element.innerHTML = '';\n",
              "          dataTable['output_type'] = 'display_data';\n",
              "          await google.colab.output.renderOutput(dataTable, element);\n",
              "          const docLink = document.createElement('div');\n",
              "          docLink.innerHTML = docLinkHtml;\n",
              "          element.appendChild(docLink);\n",
              "        }\n",
              "      </script>\n",
              "    </div>\n",
              "  </div>\n",
              "  "
            ]
          },
          "metadata": {},
          "execution_count": 3
        }
      ]
    },
    {
      "cell_type": "code",
      "source": [
        "def setLocation(Lat,Lon):\n",
        "   df =  raw_df[(raw_df['Latitude'] == Lat) & (raw_df['Longitude'] == Lon)]\n",
        "   df =  df.drop('Latitude', axis=1)\n",
        "   df =  df.drop('Longitude', axis=1)\n",
        "   df.index = pd.to_datetime(df['Time'], format='%Y-%m-%d %H:%M:%S')\n",
        "   return df"
      ],
      "metadata": {
        "id": "I27mOYdWi2BW"
      },
      "execution_count": null,
      "outputs": []
    },
    {
      "cell_type": "code",
      "source": [
        "df = setLocation(56.457,-2.976)\n",
        "rain = df[['Percipitation','SoilMoisture']]      #.apply(lambda x: x*100)\n",
        "rain"
      ],
      "metadata": {
        "colab": {
          "base_uri": "https://localhost:8080/",
          "height": 455
        },
        "id": "kREPlwK5i48P",
        "outputId": "0b0a7ad5-85d6-4f27-95db-4da59b493616"
      },
      "execution_count": null,
      "outputs": [
        {
          "output_type": "execute_result",
          "data": {
            "text/plain": [
              "                     Percipitation  SoilMoisture\n",
              "Time                                            \n",
              "2018-05-30 20:00:00           0.00     26.425000\n",
              "2018-05-30 21:00:00           0.01     26.590000\n",
              "2018-05-30 22:00:00           0.01     26.727500\n",
              "2018-05-30 23:00:00           0.01     26.489999\n",
              "2018-05-31 00:00:00           0.03     26.582500\n",
              "...                            ...           ...\n",
              "2019-06-08 07:00:00           0.24     35.042500\n",
              "2019-06-08 08:00:00           0.21     35.015000\n",
              "2019-06-08 09:00:00           0.26     34.957500\n",
              "2019-06-08 10:00:00           0.32     34.960001\n",
              "2019-06-08 11:00:00           0.35     34.870001\n",
              "\n",
              "[2320 rows x 2 columns]"
            ],
            "text/html": [
              "\n",
              "  <div id=\"df-5f1ecc22-6655-4ab0-858f-103c8580879b\">\n",
              "    <div class=\"colab-df-container\">\n",
              "      <div>\n",
              "<style scoped>\n",
              "    .dataframe tbody tr th:only-of-type {\n",
              "        vertical-align: middle;\n",
              "    }\n",
              "\n",
              "    .dataframe tbody tr th {\n",
              "        vertical-align: top;\n",
              "    }\n",
              "\n",
              "    .dataframe thead th {\n",
              "        text-align: right;\n",
              "    }\n",
              "</style>\n",
              "<table border=\"1\" class=\"dataframe\">\n",
              "  <thead>\n",
              "    <tr style=\"text-align: right;\">\n",
              "      <th></th>\n",
              "      <th>Percipitation</th>\n",
              "      <th>SoilMoisture</th>\n",
              "    </tr>\n",
              "    <tr>\n",
              "      <th>Time</th>\n",
              "      <th></th>\n",
              "      <th></th>\n",
              "    </tr>\n",
              "  </thead>\n",
              "  <tbody>\n",
              "    <tr>\n",
              "      <th>2018-05-30 20:00:00</th>\n",
              "      <td>0.00</td>\n",
              "      <td>26.425000</td>\n",
              "    </tr>\n",
              "    <tr>\n",
              "      <th>2018-05-30 21:00:00</th>\n",
              "      <td>0.01</td>\n",
              "      <td>26.590000</td>\n",
              "    </tr>\n",
              "    <tr>\n",
              "      <th>2018-05-30 22:00:00</th>\n",
              "      <td>0.01</td>\n",
              "      <td>26.727500</td>\n",
              "    </tr>\n",
              "    <tr>\n",
              "      <th>2018-05-30 23:00:00</th>\n",
              "      <td>0.01</td>\n",
              "      <td>26.489999</td>\n",
              "    </tr>\n",
              "    <tr>\n",
              "      <th>2018-05-31 00:00:00</th>\n",
              "      <td>0.03</td>\n",
              "      <td>26.582500</td>\n",
              "    </tr>\n",
              "    <tr>\n",
              "      <th>...</th>\n",
              "      <td>...</td>\n",
              "      <td>...</td>\n",
              "    </tr>\n",
              "    <tr>\n",
              "      <th>2019-06-08 07:00:00</th>\n",
              "      <td>0.24</td>\n",
              "      <td>35.042500</td>\n",
              "    </tr>\n",
              "    <tr>\n",
              "      <th>2019-06-08 08:00:00</th>\n",
              "      <td>0.21</td>\n",
              "      <td>35.015000</td>\n",
              "    </tr>\n",
              "    <tr>\n",
              "      <th>2019-06-08 09:00:00</th>\n",
              "      <td>0.26</td>\n",
              "      <td>34.957500</td>\n",
              "    </tr>\n",
              "    <tr>\n",
              "      <th>2019-06-08 10:00:00</th>\n",
              "      <td>0.32</td>\n",
              "      <td>34.960001</td>\n",
              "    </tr>\n",
              "    <tr>\n",
              "      <th>2019-06-08 11:00:00</th>\n",
              "      <td>0.35</td>\n",
              "      <td>34.870001</td>\n",
              "    </tr>\n",
              "  </tbody>\n",
              "</table>\n",
              "<p>2320 rows × 2 columns</p>\n",
              "</div>\n",
              "      <button class=\"colab-df-convert\" onclick=\"convertToInteractive('df-5f1ecc22-6655-4ab0-858f-103c8580879b')\"\n",
              "              title=\"Convert this dataframe to an interactive table.\"\n",
              "              style=\"display:none;\">\n",
              "        \n",
              "  <svg xmlns=\"http://www.w3.org/2000/svg\" height=\"24px\"viewBox=\"0 0 24 24\"\n",
              "       width=\"24px\">\n",
              "    <path d=\"M0 0h24v24H0V0z\" fill=\"none\"/>\n",
              "    <path d=\"M18.56 5.44l.94 2.06.94-2.06 2.06-.94-2.06-.94-.94-2.06-.94 2.06-2.06.94zm-11 1L8.5 8.5l.94-2.06 2.06-.94-2.06-.94L8.5 2.5l-.94 2.06-2.06.94zm10 10l.94 2.06.94-2.06 2.06-.94-2.06-.94-.94-2.06-.94 2.06-2.06.94z\"/><path d=\"M17.41 7.96l-1.37-1.37c-.4-.4-.92-.59-1.43-.59-.52 0-1.04.2-1.43.59L10.3 9.45l-7.72 7.72c-.78.78-.78 2.05 0 2.83L4 21.41c.39.39.9.59 1.41.59.51 0 1.02-.2 1.41-.59l7.78-7.78 2.81-2.81c.8-.78.8-2.07 0-2.86zM5.41 20L4 18.59l7.72-7.72 1.47 1.35L5.41 20z\"/>\n",
              "  </svg>\n",
              "      </button>\n",
              "      \n",
              "  <style>\n",
              "    .colab-df-container {\n",
              "      display:flex;\n",
              "      flex-wrap:wrap;\n",
              "      gap: 12px;\n",
              "    }\n",
              "\n",
              "    .colab-df-convert {\n",
              "      background-color: #E8F0FE;\n",
              "      border: none;\n",
              "      border-radius: 50%;\n",
              "      cursor: pointer;\n",
              "      display: none;\n",
              "      fill: #1967D2;\n",
              "      height: 32px;\n",
              "      padding: 0 0 0 0;\n",
              "      width: 32px;\n",
              "    }\n",
              "\n",
              "    .colab-df-convert:hover {\n",
              "      background-color: #E2EBFA;\n",
              "      box-shadow: 0px 1px 2px rgba(60, 64, 67, 0.3), 0px 1px 3px 1px rgba(60, 64, 67, 0.15);\n",
              "      fill: #174EA6;\n",
              "    }\n",
              "\n",
              "    [theme=dark] .colab-df-convert {\n",
              "      background-color: #3B4455;\n",
              "      fill: #D2E3FC;\n",
              "    }\n",
              "\n",
              "    [theme=dark] .colab-df-convert:hover {\n",
              "      background-color: #434B5C;\n",
              "      box-shadow: 0px 1px 3px 1px rgba(0, 0, 0, 0.15);\n",
              "      filter: drop-shadow(0px 1px 2px rgba(0, 0, 0, 0.3));\n",
              "      fill: #FFFFFF;\n",
              "    }\n",
              "  </style>\n",
              "\n",
              "      <script>\n",
              "        const buttonEl =\n",
              "          document.querySelector('#df-5f1ecc22-6655-4ab0-858f-103c8580879b button.colab-df-convert');\n",
              "        buttonEl.style.display =\n",
              "          google.colab.kernel.accessAllowed ? 'block' : 'none';\n",
              "\n",
              "        async function convertToInteractive(key) {\n",
              "          const element = document.querySelector('#df-5f1ecc22-6655-4ab0-858f-103c8580879b');\n",
              "          const dataTable =\n",
              "            await google.colab.kernel.invokeFunction('convertToInteractive',\n",
              "                                                     [key], {});\n",
              "          if (!dataTable) return;\n",
              "\n",
              "          const docLinkHtml = 'Like what you see? Visit the ' +\n",
              "            '<a target=\"_blank\" href=https://colab.research.google.com/notebooks/data_table.ipynb>data table notebook</a>'\n",
              "            + ' to learn more about interactive tables.';\n",
              "          element.innerHTML = '';\n",
              "          dataTable['output_type'] = 'display_data';\n",
              "          await google.colab.output.renderOutput(dataTable, element);\n",
              "          const docLink = document.createElement('div');\n",
              "          docLink.innerHTML = docLinkHtml;\n",
              "          element.appendChild(docLink);\n",
              "        }\n",
              "      </script>\n",
              "    </div>\n",
              "  </div>\n",
              "  "
            ]
          },
          "metadata": {},
          "execution_count": 29
        }
      ]
    },
    {
      "cell_type": "code",
      "source": [
        "def df_to_X_y2(df, window_size=6):\n",
        "  df_as_np = df.to_numpy()\n",
        "  X = []\n",
        "  y = []\n",
        "  for i in range(len(df_as_np)-window_size):\n",
        "    row = [[a[1]] for a in df_as_np[i:i+window_size]]\n",
        "    X.append(row)\n",
        "    label = df_as_np[i+window_size][0]\n",
        "    y.append(label)\n",
        "  return np.array(X), np.array(y)"
      ],
      "metadata": {
        "id": "rD3tcaC-jP6X"
      },
      "execution_count": null,
      "outputs": []
    },
    {
      "cell_type": "code",
      "source": [
        "X1, y1 = df_to_X_y2(rain)\n",
        "X1.shape, y1.shape"
      ],
      "metadata": {
        "colab": {
          "base_uri": "https://localhost:8080/"
        },
        "id": "cj1y-K_SkKRs",
        "outputId": "9b28bfa9-f1c7-4c31-8a57-1c54b906ab7d"
      },
      "execution_count": null,
      "outputs": [
        {
          "output_type": "execute_result",
          "data": {
            "text/plain": [
              "((2314, 6, 1), (2314,))"
            ]
          },
          "metadata": {},
          "execution_count": 32
        }
      ]
    },
    {
      "cell_type": "code",
      "source": [
        "n1 = round((X1.shape[0]*70)/100)\n",
        "n2 = n1 + round((X1.shape[0]*20)/100)\n",
        "\n",
        "X_train1, y_train1 = X1[:n1], y1[:n1]\n",
        "X_val1, y_val1 = X1[n1:n2], y1[n1:n2]\n",
        "X_test1, y_test1 = X1[n2:], y1[n2:]\n",
        "X_train1.shape, y_train1.shape, X_val1.shape, y_val1.shape, X_test1.shape, y_test1.shape"
      ],
      "metadata": {
        "colab": {
          "base_uri": "https://localhost:8080/"
        },
        "id": "FdW3lFQerwcf",
        "outputId": "103216c1-f668-4ee1-85e4-1587b92c2977"
      },
      "execution_count": null,
      "outputs": [
        {
          "output_type": "execute_result",
          "data": {
            "text/plain": [
              "((1620, 6, 1), (1620,), (463, 6, 1), (463,), (231, 6, 1), (231,))"
            ]
          },
          "metadata": {},
          "execution_count": 33
        }
      ]
    },
    {
      "cell_type": "code",
      "source": [
        "from tensorflow.keras.models import Sequential\n",
        "from tensorflow.keras.layers import *\n",
        "from tensorflow.keras.callbacks import ModelCheckpoint\n",
        "from tensorflow.keras.callbacks import History\n",
        "from tensorflow.keras.losses import MeanSquaredError\n",
        "from tensorflow.keras.metrics import RootMeanSquaredError\n",
        "from tensorflow.keras.optimizers import Adam\n",
        "\n",
        "model1 = Sequential()\n",
        "model1.add(InputLayer((6, 1)))\n",
        "model1.add(LSTM(64))\n",
        "model1.add(Dense(8, 'relu'))\n",
        "model1.add(Dense(1, 'linear'))\n",
        "\n",
        "model1.summary()"
      ],
      "metadata": {
        "colab": {
          "base_uri": "https://localhost:8080/"
        },
        "id": "zVu1qvzlr0XP",
        "outputId": "10ee1ae9-fef4-43fc-ae5b-05af60f1e514"
      },
      "execution_count": null,
      "outputs": [
        {
          "output_type": "stream",
          "name": "stdout",
          "text": [
            "Model: \"sequential_1\"\n",
            "_________________________________________________________________\n",
            " Layer (type)                Output Shape              Param #   \n",
            "=================================================================\n",
            " lstm_1 (LSTM)               (None, 64)                16896     \n",
            "                                                                 \n",
            " dense_2 (Dense)             (None, 8)                 520       \n",
            "                                                                 \n",
            " dense_3 (Dense)             (None, 1)                 9         \n",
            "                                                                 \n",
            "=================================================================\n",
            "Total params: 17,425\n",
            "Trainable params: 17,425\n",
            "Non-trainable params: 0\n",
            "_________________________________________________________________\n"
          ]
        }
      ]
    },
    {
      "cell_type": "code",
      "source": [
        "cp1 = ModelCheckpoint('model1/', save_best_only=True)\n",
        "model1.compile(loss=MeanSquaredError(), optimizer=Adam(learning_rate=0.0001), metrics=[RootMeanSquaredError(), 'accuracy'])"
      ],
      "metadata": {
        "id": "y-qvGS1hr49v"
      },
      "execution_count": null,
      "outputs": []
    },
    {
      "cell_type": "code",
      "source": [
        "history = model1.fit(X_train1, y_train1, validation_data=(X_val1, y_val1), epochs=50, callbacks=[cp1])"
      ],
      "metadata": {
        "colab": {
          "base_uri": "https://localhost:8080/"
        },
        "id": "CRVcfH9Er7KR",
        "outputId": "b07bf2da-c2b4-499a-8579-25d6ef38fead"
      },
      "execution_count": null,
      "outputs": [
        {
          "output_type": "stream",
          "name": "stdout",
          "text": [
            "Epoch 1/50\n",
            "47/51 [==========================>...] - ETA: 0s - loss: 0.1158 - root_mean_squared_error: 0.3403 - accuracy: 0.2473"
          ]
        },
        {
          "output_type": "stream",
          "name": "stderr",
          "text": [
            "WARNING:absl:Found untraced functions such as _update_step_xla, lstm_cell_2_layer_call_fn, lstm_cell_2_layer_call_and_return_conditional_losses while saving (showing 3 of 3). These functions will not be directly callable after loading.\n"
          ]
        },
        {
          "output_type": "stream",
          "name": "stdout",
          "text": [
            "\b\b\b\b\b\b\b\b\b\b\b\b\b\b\b\b\b\b\b\b\b\b\b\b\b\b\b\b\b\b\b\b\b\b\b\b\b\b\b\b\b\b\b\b\b\b\b\b\b\b\b\b\b\b\b\b\b\b\b\b\b\b\b\b\b\b\b\b\b\b\b\b\b\b\b\b\b\b\b\b\b\b\b\b\b\b\b\b\b\b\b\b\b\b\b\b\b\b\b\b\b\b\b\b\b\b\b\b\b\b\b\b\b\b\b\b\r51/51 [==============================] - 9s 108ms/step - loss: 0.1127 - root_mean_squared_error: 0.3357 - accuracy: 0.2519 - val_loss: 0.0643 - val_root_mean_squared_error: 0.2536 - val_accuracy: 0.5119\n",
            "Epoch 2/50\n",
            "51/51 [==============================] - 0s 8ms/step - loss: 0.1086 - root_mean_squared_error: 0.3295 - accuracy: 0.2519 - val_loss: 0.0656 - val_root_mean_squared_error: 0.2561 - val_accuracy: 0.5119\n",
            "Epoch 3/50\n",
            "51/51 [==============================] - 1s 10ms/step - loss: 0.1083 - root_mean_squared_error: 0.3290 - accuracy: 0.2519 - val_loss: 0.0648 - val_root_mean_squared_error: 0.2545 - val_accuracy: 0.5119\n",
            "Epoch 4/50\n",
            "51/51 [==============================] - 0s 9ms/step - loss: 0.1080 - root_mean_squared_error: 0.3287 - accuracy: 0.2519 - val_loss: 0.0649 - val_root_mean_squared_error: 0.2548 - val_accuracy: 0.5119\n",
            "Epoch 5/50\n",
            "49/51 [===========================>..] - ETA: 0s - loss: 0.1071 - root_mean_squared_error: 0.3273 - accuracy: 0.2506"
          ]
        },
        {
          "output_type": "stream",
          "name": "stderr",
          "text": [
            "WARNING:absl:Found untraced functions such as _update_step_xla, lstm_cell_2_layer_call_fn, lstm_cell_2_layer_call_and_return_conditional_losses while saving (showing 3 of 3). These functions will not be directly callable after loading.\n"
          ]
        },
        {
          "output_type": "stream",
          "name": "stdout",
          "text": [
            "\b\b\b\b\b\b\b\b\b\b\b\b\b\b\b\b\b\b\b\b\b\b\b\b\b\b\b\b\b\b\b\b\b\b\b\b\b\b\b\b\b\b\b\b\b\b\b\b\b\b\b\b\b\b\b\b\b\b\b\b\b\b\b\b\b\b\b\b\b\b\b\b\b\b\b\b\b\b\b\b\b\b\b\b\b\b\b\b\b\b\b\b\b\b\b\b\b\b\b\b\b\b\b\b\b\b\b\b\b\b\b\b\b\b\b\b\r51/51 [==============================] - 6s 128ms/step - loss: 0.1077 - root_mean_squared_error: 0.3282 - accuracy: 0.2519 - val_loss: 0.0640 - val_root_mean_squared_error: 0.2530 - val_accuracy: 0.5119\n",
            "Epoch 6/50\n",
            "51/51 [==============================] - 0s 10ms/step - loss: 0.1076 - root_mean_squared_error: 0.3281 - accuracy: 0.2519 - val_loss: 0.0643 - val_root_mean_squared_error: 0.2535 - val_accuracy: 0.5119\n",
            "Epoch 7/50\n",
            "46/51 [==========================>...] - ETA: 0s - loss: 0.1138 - root_mean_squared_error: 0.3373 - accuracy: 0.2548"
          ]
        },
        {
          "output_type": "stream",
          "name": "stderr",
          "text": [
            "WARNING:absl:Found untraced functions such as _update_step_xla, lstm_cell_2_layer_call_fn, lstm_cell_2_layer_call_and_return_conditional_losses while saving (showing 3 of 3). These functions will not be directly callable after loading.\n"
          ]
        },
        {
          "output_type": "stream",
          "name": "stdout",
          "text": [
            "\b\b\b\b\b\b\b\b\b\b\b\b\b\b\b\b\b\b\b\b\b\b\b\b\b\b\b\b\b\b\b\b\b\b\b\b\b\b\b\b\b\b\b\b\b\b\b\b\b\b\b\b\b\b\b\b\b\b\b\b\b\b\b\b\b\b\b\b\b\b\b\b\b\b\b\b\b\b\b\b\b\b\b\b\b\b\b\b\b\b\b\b\b\b\b\b\b\b\b\b\b\b\b\b\b\b\b\b\b\b\b\b\b\b\b\b\r51/51 [==============================] - 5s 98ms/step - loss: 0.1076 - root_mean_squared_error: 0.3280 - accuracy: 0.2519 - val_loss: 0.0638 - val_root_mean_squared_error: 0.2525 - val_accuracy: 0.5119\n",
            "Epoch 8/50\n",
            "51/51 [==============================] - 0s 9ms/step - loss: 0.1076 - root_mean_squared_error: 0.3281 - accuracy: 0.2519 - val_loss: 0.0653 - val_root_mean_squared_error: 0.2555 - val_accuracy: 0.5119\n",
            "Epoch 9/50\n",
            "51/51 [==============================] - 0s 10ms/step - loss: 0.1077 - root_mean_squared_error: 0.3281 - accuracy: 0.2519 - val_loss: 0.0641 - val_root_mean_squared_error: 0.2531 - val_accuracy: 0.5119\n",
            "Epoch 10/50\n",
            "51/51 [==============================] - 0s 9ms/step - loss: 0.1075 - root_mean_squared_error: 0.3278 - accuracy: 0.2519 - val_loss: 0.0646 - val_root_mean_squared_error: 0.2541 - val_accuracy: 0.5119\n",
            "Epoch 11/50\n",
            "51/51 [==============================] - 0s 9ms/step - loss: 0.1076 - root_mean_squared_error: 0.3280 - accuracy: 0.2519 - val_loss: 0.0640 - val_root_mean_squared_error: 0.2530 - val_accuracy: 0.5119\n",
            "Epoch 12/50\n",
            "51/51 [==============================] - 0s 9ms/step - loss: 0.1074 - root_mean_squared_error: 0.3277 - accuracy: 0.2519 - val_loss: 0.0647 - val_root_mean_squared_error: 0.2543 - val_accuracy: 0.5119\n",
            "Epoch 13/50\n",
            "46/51 [==========================>...] - ETA: 0s - loss: 0.1076 - root_mean_squared_error: 0.3280 - accuracy: 0.2541"
          ]
        },
        {
          "output_type": "stream",
          "name": "stderr",
          "text": [
            "WARNING:absl:Found untraced functions such as _update_step_xla, lstm_cell_2_layer_call_fn, lstm_cell_2_layer_call_and_return_conditional_losses while saving (showing 3 of 3). These functions will not be directly callable after loading.\n"
          ]
        },
        {
          "output_type": "stream",
          "name": "stdout",
          "text": [
            "\b\b\b\b\b\b\b\b\b\b\b\b\b\b\b\b\b\b\b\b\b\b\b\b\b\b\b\b\b\b\b\b\b\b\b\b\b\b\b\b\b\b\b\b\b\b\b\b\b\b\b\b\b\b\b\b\b\b\b\b\b\b\b\b\b\b\b\b\b\b\b\b\b\b\b\b\b\b\b\b\b\b\b\b\b\b\b\b\b\b\b\b\b\b\b\b\b\b\b\b\b\b\b\b\b\b\b\b\b\b\b\b\b\b\b\b\r51/51 [==============================] - 6s 123ms/step - loss: 0.1075 - root_mean_squared_error: 0.3279 - accuracy: 0.2519 - val_loss: 0.0634 - val_root_mean_squared_error: 0.2518 - val_accuracy: 0.5119\n",
            "Epoch 14/50\n",
            "51/51 [==============================] - 0s 9ms/step - loss: 0.1075 - root_mean_squared_error: 0.3278 - accuracy: 0.2519 - val_loss: 0.0636 - val_root_mean_squared_error: 0.2522 - val_accuracy: 0.5119\n",
            "Epoch 15/50\n",
            "51/51 [==============================] - 0s 9ms/step - loss: 0.1077 - root_mean_squared_error: 0.3281 - accuracy: 0.2519 - val_loss: 0.0640 - val_root_mean_squared_error: 0.2529 - val_accuracy: 0.5119\n",
            "Epoch 16/50\n",
            "51/51 [==============================] - 0s 9ms/step - loss: 0.1073 - root_mean_squared_error: 0.3276 - accuracy: 0.2519 - val_loss: 0.0642 - val_root_mean_squared_error: 0.2534 - val_accuracy: 0.5119\n",
            "Epoch 17/50\n",
            "51/51 [==============================] - 0s 9ms/step - loss: 0.1073 - root_mean_squared_error: 0.3275 - accuracy: 0.2519 - val_loss: 0.0646 - val_root_mean_squared_error: 0.2542 - val_accuracy: 0.5119\n",
            "Epoch 18/50\n",
            "51/51 [==============================] - 0s 10ms/step - loss: 0.1074 - root_mean_squared_error: 0.3277 - accuracy: 0.2519 - val_loss: 0.0635 - val_root_mean_squared_error: 0.2521 - val_accuracy: 0.5119\n",
            "Epoch 19/50\n",
            "51/51 [==============================] - 0s 10ms/step - loss: 0.1075 - root_mean_squared_error: 0.3279 - accuracy: 0.2519 - val_loss: 0.0644 - val_root_mean_squared_error: 0.2537 - val_accuracy: 0.5119\n",
            "Epoch 20/50\n",
            "48/51 [===========================>..] - ETA: 0s - loss: 0.1081 - root_mean_squared_error: 0.3288 - accuracy: 0.2513"
          ]
        },
        {
          "output_type": "stream",
          "name": "stderr",
          "text": [
            "WARNING:absl:Found untraced functions such as _update_step_xla, lstm_cell_2_layer_call_fn, lstm_cell_2_layer_call_and_return_conditional_losses while saving (showing 3 of 3). These functions will not be directly callable after loading.\n"
          ]
        },
        {
          "output_type": "stream",
          "name": "stdout",
          "text": [
            "\b\b\b\b\b\b\b\b\b\b\b\b\b\b\b\b\b\b\b\b\b\b\b\b\b\b\b\b\b\b\b\b\b\b\b\b\b\b\b\b\b\b\b\b\b\b\b\b\b\b\b\b\b\b\b\b\b\b\b\b\b\b\b\b\b\b\b\b\b\b\b\b\b\b\b\b\b\b\b\b\b\b\b\b\b\b\b\b\b\b\b\b\b\b\b\b\b\b\b\b\b\b\b\b\b\b\b\b\b\b\b\b\b\b\b\b\r51/51 [==============================] - 5s 99ms/step - loss: 0.1072 - root_mean_squared_error: 0.3274 - accuracy: 0.2519 - val_loss: 0.0632 - val_root_mean_squared_error: 0.2515 - val_accuracy: 0.5119\n",
            "Epoch 21/50\n",
            "51/51 [==============================] - 1s 13ms/step - loss: 0.1073 - root_mean_squared_error: 0.3275 - accuracy: 0.2519 - val_loss: 0.0635 - val_root_mean_squared_error: 0.2519 - val_accuracy: 0.5119\n",
            "Epoch 22/50\n",
            "51/51 [==============================] - 1s 14ms/step - loss: 0.1074 - root_mean_squared_error: 0.3277 - accuracy: 0.2519 - val_loss: 0.0635 - val_root_mean_squared_error: 0.2521 - val_accuracy: 0.5119\n",
            "Epoch 23/50\n",
            "51/51 [==============================] - 1s 15ms/step - loss: 0.1072 - root_mean_squared_error: 0.3274 - accuracy: 0.2519 - val_loss: 0.0642 - val_root_mean_squared_error: 0.2534 - val_accuracy: 0.5119\n",
            "Epoch 24/50\n",
            "51/51 [==============================] - 1s 13ms/step - loss: 0.1071 - root_mean_squared_error: 0.3273 - accuracy: 0.2519 - val_loss: 0.0637 - val_root_mean_squared_error: 0.2524 - val_accuracy: 0.5119\n",
            "Epoch 25/50\n",
            "51/51 [==============================] - 0s 9ms/step - loss: 0.1072 - root_mean_squared_error: 0.3274 - accuracy: 0.2519 - val_loss: 0.0636 - val_root_mean_squared_error: 0.2523 - val_accuracy: 0.5119\n",
            "Epoch 26/50\n",
            "51/51 [==============================] - 0s 10ms/step - loss: 0.1071 - root_mean_squared_error: 0.3272 - accuracy: 0.2519 - val_loss: 0.0641 - val_root_mean_squared_error: 0.2531 - val_accuracy: 0.5119\n",
            "Epoch 27/50\n",
            "51/51 [==============================] - 0s 9ms/step - loss: 0.1070 - root_mean_squared_error: 0.3271 - accuracy: 0.2519 - val_loss: 0.0637 - val_root_mean_squared_error: 0.2525 - val_accuracy: 0.5119\n",
            "Epoch 28/50\n",
            "48/51 [===========================>..] - ETA: 0s - loss: 0.1030 - root_mean_squared_error: 0.3210 - accuracy: 0.2467"
          ]
        },
        {
          "output_type": "stream",
          "name": "stderr",
          "text": [
            "WARNING:absl:Found untraced functions such as _update_step_xla, lstm_cell_2_layer_call_fn, lstm_cell_2_layer_call_and_return_conditional_losses while saving (showing 3 of 3). These functions will not be directly callable after loading.\n"
          ]
        },
        {
          "output_type": "stream",
          "name": "stdout",
          "text": [
            "\b\b\b\b\b\b\b\b\b\b\b\b\b\b\b\b\b\b\b\b\b\b\b\b\b\b\b\b\b\b\b\b\b\b\b\b\b\b\b\b\b\b\b\b\b\b\b\b\b\b\b\b\b\b\b\b\b\b\b\b\b\b\b\b\b\b\b\b\b\b\b\b\b\b\b\b\b\b\b\b\b\b\b\b\b\b\b\b\b\b\b\b\b\b\b\b\b\b\b\b\b\b\b\b\b\b\b\b\b\b\b\b\b\b\b\b\r51/51 [==============================] - 6s 111ms/step - loss: 0.1073 - root_mean_squared_error: 0.3275 - accuracy: 0.2519 - val_loss: 0.0632 - val_root_mean_squared_error: 0.2514 - val_accuracy: 0.5119\n",
            "Epoch 29/50\n",
            "51/51 [==============================] - 1s 10ms/step - loss: 0.1072 - root_mean_squared_error: 0.3274 - accuracy: 0.2519 - val_loss: 0.0636 - val_root_mean_squared_error: 0.2521 - val_accuracy: 0.5119\n",
            "Epoch 30/50\n",
            "51/51 [==============================] - 1s 10ms/step - loss: 0.1073 - root_mean_squared_error: 0.3275 - accuracy: 0.2519 - val_loss: 0.0635 - val_root_mean_squared_error: 0.2520 - val_accuracy: 0.5119\n",
            "Epoch 31/50\n",
            "51/51 [==============================] - 0s 10ms/step - loss: 0.1071 - root_mean_squared_error: 0.3272 - accuracy: 0.2519 - val_loss: 0.0641 - val_root_mean_squared_error: 0.2532 - val_accuracy: 0.5119\n",
            "Epoch 32/50\n",
            "51/51 [==============================] - 0s 9ms/step - loss: 0.1069 - root_mean_squared_error: 0.3270 - accuracy: 0.2519 - val_loss: 0.0637 - val_root_mean_squared_error: 0.2523 - val_accuracy: 0.5119\n",
            "Epoch 33/50\n",
            "51/51 [==============================] - 0s 9ms/step - loss: 0.1069 - root_mean_squared_error: 0.3269 - accuracy: 0.2519 - val_loss: 0.0640 - val_root_mean_squared_error: 0.2530 - val_accuracy: 0.5119\n",
            "Epoch 34/50\n",
            "51/51 [==============================] - 1s 12ms/step - loss: 0.1071 - root_mean_squared_error: 0.3273 - accuracy: 0.2519 - val_loss: 0.0635 - val_root_mean_squared_error: 0.2520 - val_accuracy: 0.5119\n",
            "Epoch 35/50\n",
            "51/51 [==============================] - 1s 15ms/step - loss: 0.1070 - root_mean_squared_error: 0.3271 - accuracy: 0.2519 - val_loss: 0.0646 - val_root_mean_squared_error: 0.2542 - val_accuracy: 0.5119\n",
            "Epoch 36/50\n",
            "51/51 [==============================] - 1s 16ms/step - loss: 0.1069 - root_mean_squared_error: 0.3269 - accuracy: 0.2519 - val_loss: 0.0637 - val_root_mean_squared_error: 0.2524 - val_accuracy: 0.5119\n",
            "Epoch 37/50\n",
            "51/51 [==============================] - 1s 15ms/step - loss: 0.1069 - root_mean_squared_error: 0.3270 - accuracy: 0.2519 - val_loss: 0.0639 - val_root_mean_squared_error: 0.2527 - val_accuracy: 0.5119\n",
            "Epoch 38/50\n",
            "51/51 [==============================] - 1s 12ms/step - loss: 0.1069 - root_mean_squared_error: 0.3269 - accuracy: 0.2519 - val_loss: 0.0633 - val_root_mean_squared_error: 0.2516 - val_accuracy: 0.5119\n",
            "Epoch 39/50\n",
            "51/51 [==============================] - 1s 10ms/step - loss: 0.1068 - root_mean_squared_error: 0.3268 - accuracy: 0.2519 - val_loss: 0.0636 - val_root_mean_squared_error: 0.2522 - val_accuracy: 0.5119\n",
            "Epoch 40/50\n",
            "51/51 [==============================] - 1s 11ms/step - loss: 0.1067 - root_mean_squared_error: 0.3267 - accuracy: 0.2519 - val_loss: 0.0641 - val_root_mean_squared_error: 0.2532 - val_accuracy: 0.5119\n",
            "Epoch 41/50\n",
            "51/51 [==============================] - 1s 10ms/step - loss: 0.1067 - root_mean_squared_error: 0.3267 - accuracy: 0.2519 - val_loss: 0.0642 - val_root_mean_squared_error: 0.2533 - val_accuracy: 0.5119\n",
            "Epoch 42/50\n",
            "51/51 [==============================] - 0s 10ms/step - loss: 0.1067 - root_mean_squared_error: 0.3266 - accuracy: 0.2519 - val_loss: 0.0641 - val_root_mean_squared_error: 0.2532 - val_accuracy: 0.5119\n",
            "Epoch 43/50\n",
            "51/51 [==============================] - 0s 9ms/step - loss: 0.1067 - root_mean_squared_error: 0.3267 - accuracy: 0.2519 - val_loss: 0.0646 - val_root_mean_squared_error: 0.2541 - val_accuracy: 0.5119\n",
            "Epoch 44/50\n",
            "51/51 [==============================] - 1s 11ms/step - loss: 0.1068 - root_mean_squared_error: 0.3268 - accuracy: 0.2519 - val_loss: 0.0634 - val_root_mean_squared_error: 0.2518 - val_accuracy: 0.5119\n",
            "Epoch 45/50\n",
            "51/51 [==============================] - 0s 10ms/step - loss: 0.1069 - root_mean_squared_error: 0.3269 - accuracy: 0.2519 - val_loss: 0.0639 - val_root_mean_squared_error: 0.2528 - val_accuracy: 0.5119\n",
            "Epoch 46/50\n",
            "51/51 [==============================] - 1s 10ms/step - loss: 0.1066 - root_mean_squared_error: 0.3264 - accuracy: 0.2519 - val_loss: 0.0635 - val_root_mean_squared_error: 0.2519 - val_accuracy: 0.5119\n",
            "Epoch 47/50\n",
            "51/51 [==============================] - 1s 10ms/step - loss: 0.1067 - root_mean_squared_error: 0.3267 - accuracy: 0.2519 - val_loss: 0.0638 - val_root_mean_squared_error: 0.2525 - val_accuracy: 0.5119\n",
            "Epoch 48/50\n",
            "51/51 [==============================] - 1s 10ms/step - loss: 0.1065 - root_mean_squared_error: 0.3264 - accuracy: 0.2519 - val_loss: 0.0638 - val_root_mean_squared_error: 0.2526 - val_accuracy: 0.5119\n",
            "Epoch 49/50\n",
            "51/51 [==============================] - 0s 10ms/step - loss: 0.1066 - root_mean_squared_error: 0.3265 - accuracy: 0.2519 - val_loss: 0.0645 - val_root_mean_squared_error: 0.2540 - val_accuracy: 0.5119\n",
            "Epoch 50/50\n",
            "47/51 [==========================>...] - ETA: 0s - loss: 0.1060 - root_mean_squared_error: 0.3255 - accuracy: 0.2513"
          ]
        },
        {
          "output_type": "stream",
          "name": "stderr",
          "text": [
            "WARNING:absl:Found untraced functions such as _update_step_xla, lstm_cell_2_layer_call_fn, lstm_cell_2_layer_call_and_return_conditional_losses while saving (showing 3 of 3). These functions will not be directly callable after loading.\n"
          ]
        },
        {
          "output_type": "stream",
          "name": "stdout",
          "text": [
            "\b\b\b\b\b\b\b\b\b\b\b\b\b\b\b\b\b\b\b\b\b\b\b\b\b\b\b\b\b\b\b\b\b\b\b\b\b\b\b\b\b\b\b\b\b\b\b\b\b\b\b\b\b\b\b\b\b\b\b\b\b\b\b\b\b\b\b\b\b\b\b\b\b\b\b\b\b\b\b\b\b\b\b\b\b\b\b\b\b\b\b\b\b\b\b\b\b\b\b\b\b\b\b\b\b\b\b\b\b\b\b\b\b\b\b\b\r51/51 [==============================] - 6s 111ms/step - loss: 0.1065 - root_mean_squared_error: 0.3264 - accuracy: 0.2519 - val_loss: 0.0630 - val_root_mean_squared_error: 0.2510 - val_accuracy: 0.5119\n"
          ]
        }
      ]
    },
    {
      "cell_type": "code",
      "source": [
        "import matplotlib.pyplot as plt\n",
        "ax = plt.gca()\n",
        "ax.set_ylim([0,1])\n",
        "plt.plot(history.history['accuracy'])\n",
        "plt.plot(history.history['val_accuracy'])\n",
        "plt.title('LSTM Model Accuracy')\n",
        "plt.ylabel('Accuracy')\n",
        "plt.xlabel('Epoch')\n",
        "plt.legend(['train', 'test'], loc='upper left')\n",
        "plt.show()"
      ],
      "metadata": {
        "colab": {
          "base_uri": "https://localhost:8080/",
          "height": 295
        },
        "id": "GWbkckgN0pqU",
        "outputId": "0088c093-503f-446c-b708-082fa15d85ed"
      },
      "execution_count": null,
      "outputs": [
        {
          "output_type": "display_data",
          "data": {
            "text/plain": [
              "<Figure size 432x288 with 1 Axes>"
            ],
            "image/png": "[encoded data removed]"
          },
          "metadata": {
            "needs_background": "light"
          }
        }
      ]
    },
    {
      "cell_type": "code",
      "source": [
        "import matplotlib.pyplot as plt\n",
        "ax = plt.gca()\n",
        "ax.set_ylim([0,0.12])\n",
        "plt.plot(history.history['loss'])\n",
        "plt.plot(history.history['val_loss'])\n",
        "plt.title('LSTM Model loss')\n",
        "plt.ylabel('loss')\n",
        "plt.xlabel('Epoch')\n",
        "plt.legend(['Train', 'Validation'], loc='lower right')\n",
        "plt.show()"
      ],
      "metadata": {
        "colab": {
          "base_uri": "https://localhost:8080/",
          "height": 295
        },
        "id": "57URNM3iaX9n",
        "outputId": "6a3a38e8-11b9-4bc1-fe14-ffc91c7cda9e"
      },
      "execution_count": null,
      "outputs": [
        {
          "output_type": "display_data",
          "data": {
            "text/plain": [
              "<Figure size 432x288 with 1 Axes>"
            ],
            "image/png": "[encoded data removed]"
          },
          "metadata": {
            "needs_background": "light"
          }
        }
      ]
    },
    {
      "cell_type": "code",
      "source": [
        "import matplotlib.pyplot as plt\n",
        "ax = plt.gca()\n",
        "ax.set_ylim([0,0.35])\n",
        "plt.plot(history.history['root_mean_squared_error'])\n",
        "plt.plot(history.history['val_root_mean_squared_error'])\n",
        "plt.title('LSTM Model Error')\n",
        "plt.ylabel('Error(MSE)')\n",
        "plt.xlabel('Epoch')\n",
        "plt.legend(['Train', 'Validation'], loc='lower right')\n",
        "plt.show()"
      ],
      "metadata": {
        "colab": {
          "base_uri": "https://localhost:8080/",
          "height": 295
        },
        "id": "RP1nrFwLd_6c",
        "outputId": "57e921a1-8e07-4a0f-ff8a-6c242a248ea4"
      },
      "execution_count": null,
      "outputs": [
        {
          "output_type": "display_data",
          "data": {
            "text/plain": [
              "<Figure size 432x288 with 1 Axes>"
            ],
            "image/png": "[encoded data removed]"
          },
          "metadata": {
            "needs_background": "light"
          }
        }
      ]
    },
    {
      "cell_type": "code",
      "source": [
        "from tensorflow.keras.models import load_model\n",
        "model1 = load_model('model1/')"
      ],
      "metadata": {
        "id": "0E5kBoWIsHq1"
      },
      "execution_count": null,
      "outputs": []
    },
    {
      "cell_type": "code",
      "source": [
        "train_predictions = model1.predict(X_train1).flatten()\n",
        "train_results = pd.DataFrame(data={'Train Predictions':train_predictions, 'Actuals':y_train1})\n",
        "train_results"
      ],
      "metadata": {
        "colab": {
          "base_uri": "https://localhost:8080/",
          "height": 441
        },
        "id": "_hVEEdEGsKzW",
        "outputId": "6e6848da-a6f3-409c-c831-8cb49c283d4f"
      },
      "execution_count": null,
      "outputs": [
        {
          "output_type": "stream",
          "name": "stdout",
          "text": [
            "51/51 [==============================] - 1s 3ms/step\n"
          ]
        },
        {
          "output_type": "execute_result",
          "data": {
            "text/plain": [
              "      Train Predictions  Actuals\n",
              "0              0.078861     0.09\n",
              "1              0.079492     0.14\n",
              "2              0.079481     0.16\n",
              "3              0.078673     0.15\n",
              "4              0.079110     0.14\n",
              "...                 ...      ...\n",
              "1615           0.142559     0.00\n",
              "1616           0.145447     0.00\n",
              "1617           0.148207     0.00\n",
              "1618           0.150673     0.00\n",
              "1619           0.152691     0.01\n",
              "\n",
              "[1620 rows x 2 columns]"
            ],
            "text/html": [
              "\n",
              "  <div id=\"df-8b60a49c-2f36-4d58-b362-000e7a4041a4\">\n",
              "    <div class=\"colab-df-container\">\n",
              "      <div>\n",
              "<style scoped>\n",
              "    .dataframe tbody tr th:only-of-type {\n",
              "        vertical-align: middle;\n",
              "    }\n",
              "\n",
              "    .dataframe tbody tr th {\n",
              "        vertical-align: top;\n",
              "    }\n",
              "\n",
              "    .dataframe thead th {\n",
              "        text-align: right;\n",
              "    }\n",
              "</style>\n",
              "<table border=\"1\" class=\"dataframe\">\n",
              "  <thead>\n",
              "    <tr style=\"text-align: right;\">\n",
              "      <th></th>\n",
              "      <th>Train Predictions</th>\n",
              "      <th>Actuals</th>\n",
              "    </tr>\n",
              "  </thead>\n",
              "  <tbody>\n",
              "    <tr>\n",
              "      <th>0</th>\n",
              "      <td>0.078861</td>\n",
              "      <td>0.09</td>\n",
              "    </tr>\n",
              "    <tr>\n",
              "      <th>1</th>\n",
              "      <td>0.079492</td>\n",
              "      <td>0.14</td>\n",
              "    </tr>\n",
              "    <tr>\n",
              "      <th>2</th>\n",
              "      <td>0.079481</td>\n",
              "      <td>0.16</td>\n",
              "    </tr>\n",
              "    <tr>\n",
              "      <th>3</th>\n",
              "      <td>0.078673</td>\n",
              "      <td>0.15</td>\n",
              "    </tr>\n",
              "    <tr>\n",
              "      <th>4</th>\n",
              "      <td>0.079110</td>\n",
              "      <td>0.14</td>\n",
              "    </tr>\n",
              "    <tr>\n",
              "      <th>...</th>\n",
              "      <td>...</td>\n",
              "      <td>...</td>\n",
              "    </tr>\n",
              "    <tr>\n",
              "      <th>1615</th>\n",
              "      <td>0.142559</td>\n",
              "      <td>0.00</td>\n",
              "    </tr>\n",
              "    <tr>\n",
              "      <th>1616</th>\n",
              "      <td>0.145447</td>\n",
              "      <td>0.00</td>\n",
              "    </tr>\n",
              "    <tr>\n",
              "      <th>1617</th>\n",
              "      <td>0.148207</td>\n",
              "      <td>0.00</td>\n",
              "    </tr>\n",
              "    <tr>\n",
              "      <th>1618</th>\n",
              "      <td>0.150673</td>\n",
              "      <td>0.00</td>\n",
              "    </tr>\n",
              "    <tr>\n",
              "      <th>1619</th>\n",
              "      <td>0.152691</td>\n",
              "      <td>0.01</td>\n",
              "    </tr>\n",
              "  </tbody>\n",
              "</table>\n",
              "<p>1620 rows × 2 columns</p>\n",
              "</div>\n",
              "      <button class=\"colab-df-convert\" onclick=\"convertToInteractive('df-8b60a49c-2f36-4d58-b362-000e7a4041a4')\"\n",
              "              title=\"Convert this dataframe to an interactive table.\"\n",
              "              style=\"display:none;\">\n",
              "        \n",
              "  <svg xmlns=\"http://www.w3.org/2000/svg\" height=\"24px\"viewBox=\"0 0 24 24\"\n",
              "       width=\"24px\">\n",
              "    <path d=\"M0 0h24v24H0V0z\" fill=\"none\"/>\n",
              "    <path d=\"M18.56 5.44l.94 2.06.94-2.06 2.06-.94-2.06-.94-.94-2.06-.94 2.06-2.06.94zm-11 1L8.5 8.5l.94-2.06 2.06-.94-2.06-.94L8.5 2.5l-.94 2.06-2.06.94zm10 10l.94 2.06.94-2.06 2.06-.94-2.06-.94-.94-2.06-.94 2.06-2.06.94z\"/><path d=\"M17.41 7.96l-1.37-1.37c-.4-.4-.92-.59-1.43-.59-.52 0-1.04.2-1.43.59L10.3 9.45l-7.72 7.72c-.78.78-.78 2.05 0 2.83L4 21.41c.39.39.9.59 1.41.59.51 0 1.02-.2 1.41-.59l7.78-7.78 2.81-2.81c.8-.78.8-2.07 0-2.86zM5.41 20L4 18.59l7.72-7.72 1.47 1.35L5.41 20z\"/>\n",
              "  </svg>\n",
              "      </button>\n",
              "      \n",
              "  <style>\n",
              "    .colab-df-container {\n",
              "      display:flex;\n",
              "      flex-wrap:wrap;\n",
              "      gap: 12px;\n",
              "    }\n",
              "\n",
              "    .colab-df-convert {\n",
              "      background-color: #E8F0FE;\n",
              "      border: none;\n",
              "      border-radius: 50%;\n",
              "      cursor: pointer;\n",
              "      display: none;\n",
              "      fill: #1967D2;\n",
              "      height: 32px;\n",
              "      padding: 0 0 0 0;\n",
              "      width: 32px;\n",
              "    }\n",
              "\n",
              "    .colab-df-convert:hover {\n",
              "      background-color: #E2EBFA;\n",
              "      box-shadow: 0px 1px 2px rgba(60, 64, 67, 0.3), 0px 1px 3px 1px rgba(60, 64, 67, 0.15);\n",
              "      fill: #174EA6;\n",
              "    }\n",
              "\n",
              "    [theme=dark] .colab-df-convert {\n",
              "      background-color: #3B4455;\n",
              "      fill: #D2E3FC;\n",
              "    }\n",
              "\n",
              "    [theme=dark] .colab-df-convert:hover {\n",
              "      background-color: #434B5C;\n",
              "      box-shadow: 0px 1px 3px 1px rgba(0, 0, 0, 0.15);\n",
              "      filter: drop-shadow(0px 1px 2px rgba(0, 0, 0, 0.3));\n",
              "      fill: #FFFFFF;\n",
              "    }\n",
              "  </style>\n",
              "\n",
              "      <script>\n",
              "        const buttonEl =\n",
              "          document.querySelector('#df-8b60a49c-2f36-4d58-b362-000e7a4041a4 button.colab-df-convert');\n",
              "        buttonEl.style.display =\n",
              "          google.colab.kernel.accessAllowed ? 'block' : 'none';\n",
              "\n",
              "        async function convertToInteractive(key) {\n",
              "          const element = document.querySelector('#df-8b60a49c-2f36-4d58-b362-000e7a4041a4');\n",
              "          const dataTable =\n",
              "            await google.colab.kernel.invokeFunction('convertToInteractive',\n",
              "                                                     [key], {});\n",
              "          if (!dataTable) return;\n",
              "\n",
              "          const docLinkHtml = 'Like what you see? Visit the ' +\n",
              "            '<a target=\"_blank\" href=https://colab.research.google.com/notebooks/data_table.ipynb>data table notebook</a>'\n",
              "            + ' to learn more about interactive tables.';\n",
              "          element.innerHTML = '';\n",
              "          dataTable['output_type'] = 'display_data';\n",
              "          await google.colab.output.renderOutput(dataTable, element);\n",
              "          const docLink = document.createElement('div');\n",
              "          docLink.innerHTML = docLinkHtml;\n",
              "          element.appendChild(docLink);\n",
              "        }\n",
              "      </script>\n",
              "    </div>\n",
              "  </div>\n",
              "  "
            ]
          },
          "metadata": {},
          "execution_count": 41
        }
      ]
    },
    {
      "cell_type": "code",
      "source": [
        "import matplotlib.pyplot as plt\n",
        "plt.plot(train_results['Train Predictions'][100:400])\n",
        "plt.plot(train_results['Actuals'][100:400])\n",
        "plt.title('LSTM Train Predictions vs. Actual')\n",
        "plt.ylabel('Precipitation')\n",
        "plt.xlabel('N')\n",
        "plt.legend(['Prediction', 'Actual'], loc='upper left')"
      ],
      "metadata": {
        "colab": {
          "base_uri": "https://localhost:8080/",
          "height": 312
        },
        "id": "jf5JrPzqsMqA",
        "outputId": "30a91eb4-550a-4755-84bc-419f0e980b85"
      },
      "execution_count": null,
      "outputs": [
        {
          "output_type": "execute_result",
          "data": {
            "text/plain": [
              "<matplotlib.legend.Legend at 0x7fc959b101f0>"
            ]
          },
          "metadata": {},
          "execution_count": 42
        },
        {
          "output_type": "display_data",
          "data": {
            "text/plain": [
              "<Figure size 432x288 with 1 Axes>"
            ],
            "image/png": "[encoded data removed]"
          },
          "metadata": {
            "needs_background": "light"
          }
        }
      ]
    },
    {
      "cell_type": "code",
      "source": [
        "val_predictions = model1.predict(X_val1).flatten()\n",
        "val_results = pd.DataFrame(data={'Val Predictions':val_predictions, 'Actuals':y_val1})\n",
        "val_results"
      ],
      "metadata": {
        "colab": {
          "base_uri": "https://localhost:8080/",
          "height": 441
        },
        "id": "UP0xXyassOrm",
        "outputId": "dcfa4bbf-930b-4c6f-8743-58ff30409aac"
      },
      "execution_count": null,
      "outputs": [
        {
          "output_type": "stream",
          "name": "stdout",
          "text": [
            "15/15 [==============================] - 0s 5ms/step\n"
          ]
        },
        {
          "output_type": "execute_result",
          "data": {
            "text/plain": [
              "     Val Predictions  Actuals\n",
              "0           0.154349     0.02\n",
              "1           0.156312     0.06\n",
              "2           0.157651     0.07\n",
              "3           0.158512     0.09\n",
              "4           0.158620     0.09\n",
              "..               ...      ...\n",
              "458         0.058702     0.00\n",
              "459         0.058788     0.00\n",
              "460         0.061237     0.01\n",
              "461         0.080196     0.00\n",
              "462         0.084553     0.00\n",
              "\n",
              "[463 rows x 2 columns]"
            ],
            "text/html": [
              "\n",
              "  <div id=\"df-96f65447-eed6-4973-90b9-497654c30e72\">\n",
              "    <div class=\"colab-df-container\">\n",
              "      <div>\n",
              "<style scoped>\n",
              "    .dataframe tbody tr th:only-of-type {\n",
              "        vertical-align: middle;\n",
              "    }\n",
              "\n",
              "    .dataframe tbody tr th {\n",
              "        vertical-align: top;\n",
              "    }\n",
              "\n",
              "    .dataframe thead th {\n",
              "        text-align: right;\n",
              "    }\n",
              "</style>\n",
              "<table border=\"1\" class=\"dataframe\">\n",
              "  <thead>\n",
              "    <tr style=\"text-align: right;\">\n",
              "      <th></th>\n",
              "      <th>Val Predictions</th>\n",
              "      <th>Actuals</th>\n",
              "    </tr>\n",
              "  </thead>\n",
              "  <tbody>\n",
              "    <tr>\n",
              "      <th>0</th>\n",
              "      <td>0.154349</td>\n",
              "      <td>0.02</td>\n",
              "    </tr>\n",
              "    <tr>\n",
              "      <th>1</th>\n",
              "      <td>0.156312</td>\n",
              "      <td>0.06</td>\n",
              "    </tr>\n",
              "    <tr>\n",
              "      <th>2</th>\n",
              "      <td>0.157651</td>\n",
              "      <td>0.07</td>\n",
              "    </tr>\n",
              "    <tr>\n",
              "      <th>3</th>\n",
              "      <td>0.158512</td>\n",
              "      <td>0.09</td>\n",
              "    </tr>\n",
              "    <tr>\n",
              "      <th>4</th>\n",
              "      <td>0.158620</td>\n",
              "      <td>0.09</td>\n",
              "    </tr>\n",
              "    <tr>\n",
              "      <th>...</th>\n",
              "      <td>...</td>\n",
              "      <td>...</td>\n",
              "    </tr>\n",
              "    <tr>\n",
              "      <th>458</th>\n",
              "      <td>0.058702</td>\n",
              "      <td>0.00</td>\n",
              "    </tr>\n",
              "    <tr>\n",
              "      <th>459</th>\n",
              "      <td>0.058788</td>\n",
              "      <td>0.00</td>\n",
              "    </tr>\n",
              "    <tr>\n",
              "      <th>460</th>\n",
              "      <td>0.061237</td>\n",
              "      <td>0.01</td>\n",
              "    </tr>\n",
              "    <tr>\n",
              "      <th>461</th>\n",
              "      <td>0.080196</td>\n",
              "      <td>0.00</td>\n",
              "    </tr>\n",
              "    <tr>\n",
              "      <th>462</th>\n",
              "      <td>0.084553</td>\n",
              "      <td>0.00</td>\n",
              "    </tr>\n",
              "  </tbody>\n",
              "</table>\n",
              "<p>463 rows × 2 columns</p>\n",
              "</div>\n",
              "      <button class=\"colab-df-convert\" onclick=\"convertToInteractive('df-96f65447-eed6-4973-90b9-497654c30e72')\"\n",
              "              title=\"Convert this dataframe to an interactive table.\"\n",
              "              style=\"display:none;\">\n",
              "        \n",
              "  <svg xmlns=\"http://www.w3.org/2000/svg\" height=\"24px\"viewBox=\"0 0 24 24\"\n",
              "       width=\"24px\">\n",
              "    <path d=\"M0 0h24v24H0V0z\" fill=\"none\"/>\n",
              "    <path d=\"M18.56 5.44l.94 2.06.94-2.06 2.06-.94-2.06-.94-.94-2.06-.94 2.06-2.06.94zm-11 1L8.5 8.5l.94-2.06 2.06-.94-2.06-.94L8.5 2.5l-.94 2.06-2.06.94zm10 10l.94 2.06.94-2.06 2.06-.94-2.06-.94-.94-2.06-.94 2.06-2.06.94z\"/><path d=\"M17.41 7.96l-1.37-1.37c-.4-.4-.92-.59-1.43-.59-.52 0-1.04.2-1.43.59L10.3 9.45l-7.72 7.72c-.78.78-.78 2.05 0 2.83L4 21.41c.39.39.9.59 1.41.59.51 0 1.02-.2 1.41-.59l7.78-7.78 2.81-2.81c.8-.78.8-2.07 0-2.86zM5.41 20L4 18.59l7.72-7.72 1.47 1.35L5.41 20z\"/>\n",
              "  </svg>\n",
              "      </button>\n",
              "      \n",
              "  <style>\n",
              "    .colab-df-container {\n",
              "      display:flex;\n",
              "      flex-wrap:wrap;\n",
              "      gap: 12px;\n",
              "    }\n",
              "\n",
              "    .colab-df-convert {\n",
              "      background-color: #E8F0FE;\n",
              "      border: none;\n",
              "      border-radius: 50%;\n",
              "      cursor: pointer;\n",
              "      display: none;\n",
              "      fill: #1967D2;\n",
              "      height: 32px;\n",
              "      padding: 0 0 0 0;\n",
              "      width: 32px;\n",
              "    }\n",
              "\n",
              "    .colab-df-convert:hover {\n",
              "      background-color: #E2EBFA;\n",
              "      box-shadow: 0px 1px 2px rgba(60, 64, 67, 0.3), 0px 1px 3px 1px rgba(60, 64, 67, 0.15);\n",
              "      fill: #174EA6;\n",
              "    }\n",
              "\n",
              "    [theme=dark] .colab-df-convert {\n",
              "      background-color: #3B4455;\n",
              "      fill: #D2E3FC;\n",
              "    }\n",
              "\n",
              "    [theme=dark] .colab-df-convert:hover {\n",
              "      background-color: #434B5C;\n",
              "      box-shadow: 0px 1px 3px 1px rgba(0, 0, 0, 0.15);\n",
              "      filter: drop-shadow(0px 1px 2px rgba(0, 0, 0, 0.3));\n",
              "      fill: #FFFFFF;\n",
              "    }\n",
              "  </style>\n",
              "\n",
              "      <script>\n",
              "        const buttonEl =\n",
              "          document.querySelector('#df-96f65447-eed6-4973-90b9-497654c30e72 button.colab-df-convert');\n",
              "        buttonEl.style.display =\n",
              "          google.colab.kernel.accessAllowed ? 'block' : 'none';\n",
              "\n",
              "        async function convertToInteractive(key) {\n",
              "          const element = document.querySelector('#df-96f65447-eed6-4973-90b9-497654c30e72');\n",
              "          const dataTable =\n",
              "            await google.colab.kernel.invokeFunction('convertToInteractive',\n",
              "                                                     [key], {});\n",
              "          if (!dataTable) return;\n",
              "\n",
              "          const docLinkHtml = 'Like what you see? Visit the ' +\n",
              "            '<a target=\"_blank\" href=https://colab.research.google.com/notebooks/data_table.ipynb>data table notebook</a>'\n",
              "            + ' to learn more about interactive tables.';\n",
              "          element.innerHTML = '';\n",
              "          dataTable['output_type'] = 'display_data';\n",
              "          await google.colab.output.renderOutput(dataTable, element);\n",
              "          const docLink = document.createElement('div');\n",
              "          docLink.innerHTML = docLinkHtml;\n",
              "          element.appendChild(docLink);\n",
              "        }\n",
              "      </script>\n",
              "    </div>\n",
              "  </div>\n",
              "  "
            ]
          },
          "metadata": {},
          "execution_count": 43
        }
      ]
    },
    {
      "cell_type": "code",
      "source": [
        "plt.plot(val_results['Val Predictions'][100:400])\n",
        "plt.plot(val_results['Actuals'][100:400])\n",
        "plt.title('LSTM validation Predictions vs. Actual')\n",
        "plt.ylabel('Precipitation')\n",
        "plt.xlabel('N')\n",
        "plt.legend(['Prediction', 'Actual'], loc='upper left')"
      ],
      "metadata": {
        "colab": {
          "base_uri": "https://localhost:8080/",
          "height": 312
        },
        "id": "DYjPYtftsQ53",
        "outputId": "5405a33b-7a40-4530-f26a-4c0ebf2ac1f3"
      },
      "execution_count": null,
      "outputs": [
        {
          "output_type": "execute_result",
          "data": {
            "text/plain": [
              "<matplotlib.legend.Legend at 0x7fc955beb5b0>"
            ]
          },
          "metadata": {},
          "execution_count": 44
        },
        {
          "output_type": "display_data",
          "data": {
            "text/plain": [
              "<Figure size 432x288 with 1 Axes>"
            ],
            "image/png": "[encoded data removed]"
          },
          "metadata": {
            "needs_background": "light"
          }
        }
      ]
    },
    {
      "cell_type": "code",
      "source": [
        "test_predictions = model1.predict(X_test1).flatten()\n",
        "test_results = pd.DataFrame(data={'Test Predictions':test_predictions, 'Actuals':y_test1})\n",
        "test_results"
      ],
      "metadata": {
        "colab": {
          "base_uri": "https://localhost:8080/",
          "height": 441
        },
        "id": "9MCq9c4zsSwy",
        "outputId": "d3d53b07-f061-4065-91d8-8c2551b105cd"
      },
      "execution_count": null,
      "outputs": [
        {
          "output_type": "stream",
          "name": "stdout",
          "text": [
            "8/8 [==============================] - 0s 4ms/step\n"
          ]
        },
        {
          "output_type": "execute_result",
          "data": {
            "text/plain": [
              "     Test Predictions  Actuals\n",
              "0            0.084620     0.00\n",
              "1            0.083993     0.00\n",
              "2            0.083601     0.00\n",
              "3            0.083813     0.00\n",
              "4            0.083840     0.00\n",
              "..                ...      ...\n",
              "226          0.126109     0.24\n",
              "227          0.125904     0.21\n",
              "228          0.125738     0.26\n",
              "229          0.125390     0.32\n",
              "230          0.125398     0.35\n",
              "\n",
              "[231 rows x 2 columns]"
            ],
            "text/html": [
              "\n",
              "  <div id=\"df-f380f8df-019f-419a-a84d-89a2197d8830\">\n",
              "    <div class=\"colab-df-container\">\n",
              "      <div>\n",
              "<style scoped>\n",
              "    .dataframe tbody tr th:only-of-type {\n",
              "        vertical-align: middle;\n",
              "    }\n",
              "\n",
              "    .dataframe tbody tr th {\n",
              "        vertical-align: top;\n",
              "    }\n",
              "\n",
              "    .dataframe thead th {\n",
              "        text-align: right;\n",
              "    }\n",
              "</style>\n",
              "<table border=\"1\" class=\"dataframe\">\n",
              "  <thead>\n",
              "    <tr style=\"text-align: right;\">\n",
              "      <th></th>\n",
              "      <th>Test Predictions</th>\n",
              "      <th>Actuals</th>\n",
              "    </tr>\n",
              "  </thead>\n",
              "  <tbody>\n",
              "    <tr>\n",
              "      <th>0</th>\n",
              "      <td>0.084620</td>\n",
              "      <td>0.00</td>\n",
              "    </tr>\n",
              "    <tr>\n",
              "      <th>1</th>\n",
              "      <td>0.083993</td>\n",
              "      <td>0.00</td>\n",
              "    </tr>\n",
              "    <tr>\n",
              "      <th>2</th>\n",
              "      <td>0.083601</td>\n",
              "      <td>0.00</td>\n",
              "    </tr>\n",
              "    <tr>\n",
              "      <th>3</th>\n",
              "      <td>0.083813</td>\n",
              "      <td>0.00</td>\n",
              "    </tr>\n",
              "    <tr>\n",
              "      <th>4</th>\n",
              "      <td>0.083840</td>\n",
              "      <td>0.00</td>\n",
              "    </tr>\n",
              "    <tr>\n",
              "      <th>...</th>\n",
              "      <td>...</td>\n",
              "      <td>...</td>\n",
              "    </tr>\n",
              "    <tr>\n",
              "      <th>226</th>\n",
              "      <td>0.126109</td>\n",
              "      <td>0.24</td>\n",
              "    </tr>\n",
              "    <tr>\n",
              "      <th>227</th>\n",
              "      <td>0.125904</td>\n",
              "      <td>0.21</td>\n",
              "    </tr>\n",
              "    <tr>\n",
              "      <th>228</th>\n",
              "      <td>0.125738</td>\n",
              "      <td>0.26</td>\n",
              "    </tr>\n",
              "    <tr>\n",
              "      <th>229</th>\n",
              "      <td>0.125390</td>\n",
              "      <td>0.32</td>\n",
              "    </tr>\n",
              "    <tr>\n",
              "      <th>230</th>\n",
              "      <td>0.125398</td>\n",
              "      <td>0.35</td>\n",
              "    </tr>\n",
              "  </tbody>\n",
              "</table>\n",
              "<p>231 rows × 2 columns</p>\n",
              "</div>\n",
              "      <button class=\"colab-df-convert\" onclick=\"convertToInteractive('df-f380f8df-019f-419a-a84d-89a2197d8830')\"\n",
              "              title=\"Convert this dataframe to an interactive table.\"\n",
              "              style=\"display:none;\">\n",
              "        \n",
              "  <svg xmlns=\"http://www.w3.org/2000/svg\" height=\"24px\"viewBox=\"0 0 24 24\"\n",
              "       width=\"24px\">\n",
              "    <path d=\"M0 0h24v24H0V0z\" fill=\"none\"/>\n",
              "    <path d=\"M18.56 5.44l.94 2.06.94-2.06 2.06-.94-2.06-.94-.94-2.06-.94 2.06-2.06.94zm-11 1L8.5 8.5l.94-2.06 2.06-.94-2.06-.94L8.5 2.5l-.94 2.06-2.06.94zm10 10l.94 2.06.94-2.06 2.06-.94-2.06-.94-.94-2.06-.94 2.06-2.06.94z\"/><path d=\"M17.41 7.96l-1.37-1.37c-.4-.4-.92-.59-1.43-.59-.52 0-1.04.2-1.43.59L10.3 9.45l-7.72 7.72c-.78.78-.78 2.05 0 2.83L4 21.41c.39.39.9.59 1.41.59.51 0 1.02-.2 1.41-.59l7.78-7.78 2.81-2.81c.8-.78.8-2.07 0-2.86zM5.41 20L4 18.59l7.72-7.72 1.47 1.35L5.41 20z\"/>\n",
              "  </svg>\n",
              "      </button>\n",
              "      \n",
              "  <style>\n",
              "    .colab-df-container {\n",
              "      display:flex;\n",
              "      flex-wrap:wrap;\n",
              "      gap: 12px;\n",
              "    }\n",
              "\n",
              "    .colab-df-convert {\n",
              "      background-color: #E8F0FE;\n",
              "      border: none;\n",
              "      border-radius: 50%;\n",
              "      cursor: pointer;\n",
              "      display: none;\n",
              "      fill: #1967D2;\n",
              "      height: 32px;\n",
              "      padding: 0 0 0 0;\n",
              "      width: 32px;\n",
              "    }\n",
              "\n",
              "    .colab-df-convert:hover {\n",
              "      background-color: #E2EBFA;\n",
              "      box-shadow: 0px 1px 2px rgba(60, 64, 67, 0.3), 0px 1px 3px 1px rgba(60, 64, 67, 0.15);\n",
              "      fill: #174EA6;\n",
              "    }\n",
              "\n",
              "    [theme=dark] .colab-df-convert {\n",
              "      background-color: #3B4455;\n",
              "      fill: #D2E3FC;\n",
              "    }\n",
              "\n",
              "    [theme=dark] .colab-df-convert:hover {\n",
              "      background-color: #434B5C;\n",
              "      box-shadow: 0px 1px 3px 1px rgba(0, 0, 0, 0.15);\n",
              "      filter: drop-shadow(0px 1px 2px rgba(0, 0, 0, 0.3));\n",
              "      fill: #FFFFFF;\n",
              "    }\n",
              "  </style>\n",
              "\n",
              "      <script>\n",
              "        const buttonEl =\n",
              "          document.querySelector('#df-f380f8df-019f-419a-a84d-89a2197d8830 button.colab-df-convert');\n",
              "        buttonEl.style.display =\n",
              "          google.colab.kernel.accessAllowed ? 'block' : 'none';\n",
              "\n",
              "        async function convertToInteractive(key) {\n",
              "          const element = document.querySelector('#df-f380f8df-019f-419a-a84d-89a2197d8830');\n",
              "          const dataTable =\n",
              "            await google.colab.kernel.invokeFunction('convertToInteractive',\n",
              "                                                     [key], {});\n",
              "          if (!dataTable) return;\n",
              "\n",
              "          const docLinkHtml = 'Like what you see? Visit the ' +\n",
              "            '<a target=\"_blank\" href=https://colab.research.google.com/notebooks/data_table.ipynb>data table notebook</a>'\n",
              "            + ' to learn more about interactive tables.';\n",
              "          element.innerHTML = '';\n",
              "          dataTable['output_type'] = 'display_data';\n",
              "          await google.colab.output.renderOutput(dataTable, element);\n",
              "          const docLink = document.createElement('div');\n",
              "          docLink.innerHTML = docLinkHtml;\n",
              "          element.appendChild(docLink);\n",
              "        }\n",
              "      </script>\n",
              "    </div>\n",
              "  </div>\n",
              "  "
            ]
          },
          "metadata": {},
          "execution_count": 45
        }
      ]
    },
    {
      "cell_type": "code",
      "source": [
        "plt.plot(test_results['Test Predictions'][100:400])\n",
        "plt.plot(test_results['Actuals'][100:400])\n",
        "plt.title('LSTM test Predictions vs. Actual')\n",
        "plt.ylabel('Precipitation')\n",
        "plt.xlabel('N')\n",
        "plt.legend(['Prediction', 'Actual'], loc='upper left')"
      ],
      "metadata": {
        "colab": {
          "base_uri": "https://localhost:8080/",
          "height": 312
        },
        "id": "3psT75sisUiD",
        "outputId": "171f45ce-94e5-4bff-a57a-61a54d67b60d"
      },
      "execution_count": null,
      "outputs": [
        {
          "output_type": "execute_result",
          "data": {
            "text/plain": [
              "<matplotlib.legend.Legend at 0x7fc951110c70>"
            ]
          },
          "metadata": {},
          "execution_count": 46
        },
        {
          "output_type": "display_data",
          "data": {
            "text/plain": [
              "<Figure size 432x288 with 1 Axes>"
            ],
            "image/png": "[encoded data removed]"
          },
          "metadata": {
            "needs_background": "light"
          }
        }
      ]
    }
  ]
}